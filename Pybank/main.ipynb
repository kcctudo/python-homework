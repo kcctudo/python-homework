{
 "cells": [
  {
   "cell_type": "code",
   "execution_count": 3,
   "id": "8da87421-7040-4ab5-ba22-3a90e4ff4310",
   "metadata": {},
   "outputs": [],
   "source": [
    "import pandas as pd\n",
    "import numpy as np\n",
    "budget_data_df = pd.read_csv(\"/Users/hannahtudo/UofT/python-homework/Pybank/budget_data.csv\")\n",
    "profit_losses_diff_df = pd.DataFrame(budget_data_df['Profit/Losses']).diff()\n",
    "profit_losses_diff_df = profit_losses_diff_df.rename(columns={\"Profit/Losses\": \"Chg\"})\n",
    "concat_df = pd.concat([budget_data_df,profit_losses_diff_df],axis=1,join=\"outer\")\n",
    "# Calculation and convert to string\n",
    "ln_str = str(len(concat_df))\n",
    "total_str = str((concat_df[\"Profit/Losses\"]).sum())\n",
    "avg_str = str(np.round_((concat_df[\"Chg\"]).mean(), decimals=2))\n",
    "max_str = str(np.round_((concat_df[\"Chg\"]).max(), decimals=0))\n",
    "max_date = concat_df[\"Date\"][(concat_df[\"Chg\"]).idxmax()]\n",
    "min_str = str(np.round_((concat_df[\"Chg\"]).min(), decimals=0))\n",
    "min_date = concat_df[\"Date\"][(concat_df[\"Chg\"]).idxmin()]\n",
    "lines = ['Financial Analysis',\n",
    "         '----------------------------',\n",
    "         'Total Months: ' + ln_str,\n",
    "         'Total: $' + total_str,\n",
    "         'Average Change: $' + avg_str,\n",
    "         'Greatest Increase in Profits: ' + max_date + '($' + max_str.rstrip(\".0\") + ')',\n",
    "         'Greatest Decrease in Profits: ' + min_date + '($' + min_str.rstrip(\".0\") + ')']\n",
    "with open('readme.txt', 'w') as f:\n",
    "    for line in lines:\n",
    "        f.write(line)\n",
    "        f.write('\\n')\n",
    "        "
   ]
  },
  {
   "cell_type": "code",
   "execution_count": null,
   "id": "6b2a4d7f-ceeb-4100-aaeb-28aca081e720",
   "metadata": {},
   "outputs": [],
   "source": [
    "        "
   ]
  },
  {
   "cell_type": "code",
   "execution_count": null,
   "id": "ea317e28-fc3d-4147-9647-09e3c387162c",
   "metadata": {},
   "outputs": [],
   "source": []
  },
  {
   "cell_type": "code",
   "execution_count": null,
   "id": "db162803-1a0d-41ae-a866-a8ff2aabaadb",
   "metadata": {},
   "outputs": [],
   "source": []
  },
  {
   "cell_type": "code",
   "execution_count": null,
   "id": "843ef707-bd3b-4b8f-bbd2-3713dbe56bb7",
   "metadata": {},
   "outputs": [],
   "source": []
  },
  {
   "cell_type": "code",
   "execution_count": null,
   "id": "7951a5d3-bd2d-47ea-b9cf-d0f50ddfbd00",
   "metadata": {},
   "outputs": [],
   "source": [
    "\n"
   ]
  },
  {
   "cell_type": "code",
   "execution_count": null,
   "id": "a84d317c-e4b2-47bd-833a-307ab6eb0faf",
   "metadata": {},
   "outputs": [],
   "source": [
    "\n"
   ]
  },
  {
   "cell_type": "code",
   "execution_count": null,
   "id": "89f5ba7c-1de8-4ba1-8653-92f9931db299",
   "metadata": {},
   "outputs": [],
   "source": []
  }
 ],
 "metadata": {
  "kernelspec": {
   "display_name": "Python 3 (ipykernel)",
   "language": "python",
   "name": "python3"
  },
  "language_info": {
   "codemirror_mode": {
    "name": "ipython",
    "version": 3
   },
   "file_extension": ".py",
   "mimetype": "text/x-python",
   "name": "python",
   "nbconvert_exporter": "python",
   "pygments_lexer": "ipython3",
   "version": "3.8.3"
  },
  "toc-autonumbering": true,
  "toc-showmarkdowntxt": true
 },
 "nbformat": 4,
 "nbformat_minor": 5
}
